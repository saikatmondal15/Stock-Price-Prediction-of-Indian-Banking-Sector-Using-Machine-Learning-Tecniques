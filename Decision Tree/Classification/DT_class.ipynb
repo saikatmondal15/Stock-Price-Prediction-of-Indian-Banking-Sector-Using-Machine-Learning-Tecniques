{
 "cells": [
  {
   "cell_type": "code",
   "execution_count": 14,
   "metadata": {},
   "outputs": [
    {
     "data": {
      "text/html": [
       "<div>\n",
       "<style scoped>\n",
       "    .dataframe tbody tr th:only-of-type {\n",
       "        vertical-align: middle;\n",
       "    }\n",
       "\n",
       "    .dataframe tbody tr th {\n",
       "        vertical-align: top;\n",
       "    }\n",
       "\n",
       "    .dataframe thead th {\n",
       "        text-align: right;\n",
       "    }\n",
       "</style>\n",
       "<table border=\"1\" class=\"dataframe\">\n",
       "  <thead>\n",
       "    <tr style=\"text-align: right;\">\n",
       "      <th></th>\n",
       "      <th>year</th>\n",
       "      <th>month</th>\n",
       "      <th>day</th>\n",
       "      <th>day_week</th>\n",
       "      <th>close_norm</th>\n",
       "      <th>open_norm</th>\n",
       "      <th>high_norm</th>\n",
       "      <th>low_norm</th>\n",
       "      <th>range_norm</th>\n",
       "    </tr>\n",
       "  </thead>\n",
       "  <tbody>\n",
       "    <tr>\n",
       "      <td>count</td>\n",
       "      <td>2610.000000</td>\n",
       "      <td>2610.000000</td>\n",
       "      <td>2610.000000</td>\n",
       "      <td>2610.000000</td>\n",
       "      <td>2610.000000</td>\n",
       "      <td>2610.000000</td>\n",
       "      <td>2610.000000</td>\n",
       "      <td>2610.000000</td>\n",
       "      <td>2610.000000</td>\n",
       "    </tr>\n",
       "    <tr>\n",
       "      <td>mean</td>\n",
       "      <td>2013.491571</td>\n",
       "      <td>6.528736</td>\n",
       "      <td>15.736398</td>\n",
       "      <td>3.999234</td>\n",
       "      <td>0.555939</td>\n",
       "      <td>0.000779</td>\n",
       "      <td>0.000749</td>\n",
       "      <td>0.000780</td>\n",
       "      <td>0.154307</td>\n",
       "    </tr>\n",
       "    <tr>\n",
       "      <td>std</td>\n",
       "      <td>2.876286</td>\n",
       "      <td>3.450040</td>\n",
       "      <td>8.803216</td>\n",
       "      <td>1.413942</td>\n",
       "      <td>0.496956</td>\n",
       "      <td>0.016098</td>\n",
       "      <td>0.014239</td>\n",
       "      <td>0.015184</td>\n",
       "      <td>0.718611</td>\n",
       "    </tr>\n",
       "    <tr>\n",
       "      <td>min</td>\n",
       "      <td>2008.000000</td>\n",
       "      <td>1.000000</td>\n",
       "      <td>1.000000</td>\n",
       "      <td>2.000000</td>\n",
       "      <td>0.000000</td>\n",
       "      <td>-0.096846</td>\n",
       "      <td>-0.080913</td>\n",
       "      <td>-0.123607</td>\n",
       "      <td>-2.114471</td>\n",
       "    </tr>\n",
       "    <tr>\n",
       "      <td>25%</td>\n",
       "      <td>2011.000000</td>\n",
       "      <td>4.000000</td>\n",
       "      <td>8.000000</td>\n",
       "      <td>3.000000</td>\n",
       "      <td>0.000000</td>\n",
       "      <td>-0.007242</td>\n",
       "      <td>-0.005541</td>\n",
       "      <td>-0.006241</td>\n",
       "      <td>-0.303697</td>\n",
       "    </tr>\n",
       "    <tr>\n",
       "      <td>50%</td>\n",
       "      <td>2013.000000</td>\n",
       "      <td>7.000000</td>\n",
       "      <td>16.000000</td>\n",
       "      <td>4.000000</td>\n",
       "      <td>1.000000</td>\n",
       "      <td>0.000000</td>\n",
       "      <td>0.000149</td>\n",
       "      <td>0.000000</td>\n",
       "      <td>0.000000</td>\n",
       "    </tr>\n",
       "    <tr>\n",
       "      <td>75%</td>\n",
       "      <td>2016.000000</td>\n",
       "      <td>10.000000</td>\n",
       "      <td>23.000000</td>\n",
       "      <td>5.000000</td>\n",
       "      <td>1.000000</td>\n",
       "      <td>0.008686</td>\n",
       "      <td>0.006842</td>\n",
       "      <td>0.007603</td>\n",
       "      <td>0.396617</td>\n",
       "    </tr>\n",
       "    <tr>\n",
       "      <td>max</td>\n",
       "      <td>2018.000000</td>\n",
       "      <td>12.000000</td>\n",
       "      <td>31.000000</td>\n",
       "      <td>6.000000</td>\n",
       "      <td>1.000000</td>\n",
       "      <td>0.142209</td>\n",
       "      <td>0.192929</td>\n",
       "      <td>0.142209</td>\n",
       "      <td>7.958861</td>\n",
       "    </tr>\n",
       "  </tbody>\n",
       "</table>\n",
       "</div>"
      ],
      "text/plain": [
       "              year        month          day     day_week   close_norm  \\\n",
       "count  2610.000000  2610.000000  2610.000000  2610.000000  2610.000000   \n",
       "mean   2013.491571     6.528736    15.736398     3.999234     0.555939   \n",
       "std       2.876286     3.450040     8.803216     1.413942     0.496956   \n",
       "min    2008.000000     1.000000     1.000000     2.000000     0.000000   \n",
       "25%    2011.000000     4.000000     8.000000     3.000000     0.000000   \n",
       "50%    2013.000000     7.000000    16.000000     4.000000     1.000000   \n",
       "75%    2016.000000    10.000000    23.000000     5.000000     1.000000   \n",
       "max    2018.000000    12.000000    31.000000     6.000000     1.000000   \n",
       "\n",
       "         open_norm    high_norm     low_norm   range_norm  \n",
       "count  2610.000000  2610.000000  2610.000000  2610.000000  \n",
       "mean      0.000779     0.000749     0.000780     0.154307  \n",
       "std       0.016098     0.014239     0.015184     0.718611  \n",
       "min      -0.096846    -0.080913    -0.123607    -2.114471  \n",
       "25%      -0.007242    -0.005541    -0.006241    -0.303697  \n",
       "50%       0.000000     0.000149     0.000000     0.000000  \n",
       "75%       0.008686     0.006842     0.007603     0.396617  \n",
       "max       0.142209     0.192929     0.142209     7.958861  "
      ]
     },
     "execution_count": 14,
     "metadata": {},
     "output_type": "execute_result"
    }
   ],
   "source": [
    "# -*- coding: utf-8 -*-\n",
    "import math\n",
    "import pandas as pd\n",
    "import sklearn\n",
    "import numpy as np\n",
    "from pyearth import Earth\n",
    "import matplotlib.pyplot as pyplot \n",
    "import seaborn as sns\n",
    "from scipy.stats import skew, skewtest\n",
    "\n",
    "train = pd.read_csv(\"/home/saikat/Documents/2020/Project/Dataset_ML_Cla.csv\")\n",
    "test = pd.read_csv(\"/home/saikat/Documents/2020/Project/Dataset_ML_Cla.csv\")\n",
    "train = train[0:2610]\n",
    "test = train\n",
    "train.describe()\n"
   ]
  },
  {
   "cell_type": "code",
   "execution_count": 15,
   "metadata": {},
   "outputs": [
    {
     "data": {
      "text/plain": [
       "False"
      ]
     },
     "execution_count": 15,
     "metadata": {},
     "output_type": "execute_result"
    }
   ],
   "source": [
    "train.isnull().values.any()"
   ]
  },
  {
   "cell_type": "code",
   "execution_count": 16,
   "metadata": {},
   "outputs": [
    {
     "name": "stdout",
     "output_type": "stream",
     "text": [
      "0       1.0\n",
      "1       1.0\n",
      "2       0.0\n",
      "3       1.0\n",
      "4       1.0\n",
      "       ... \n",
      "2605    0.0\n",
      "2606    1.0\n",
      "2607    1.0\n",
      "2608    0.0\n",
      "2609    1.0\n",
      "Name: close_norm, Length: 2610, dtype: float64\n"
     ]
    }
   ],
   "source": [
    "y_train = train['close_norm']\n",
    "print(y_train)"
   ]
  },
  {
   "cell_type": "code",
   "execution_count": 17,
   "metadata": {},
   "outputs": [
    {
     "name": "stdout",
     "output_type": "stream",
     "text": [
      "        year  month   day  day_week  open_norm  high_norm  low_norm  \\\n",
      "0     2008.0   12.0  29.0       2.0  -0.038202  -0.014263 -0.017903   \n",
      "1     2008.0   12.0  30.0       3.0   0.044757   0.028949  0.052009   \n",
      "2     2008.0   12.0  31.0       4.0   0.021239   0.001252  0.010713   \n",
      "3     2009.0    1.0   1.0       5.0  -0.014752   0.003086  0.007619   \n",
      "4     2009.0    1.0   2.0       6.0   0.026897   0.024050  0.016815   \n",
      "...      ...    ...   ...       ...        ...        ...       ...   \n",
      "2605  2018.0   12.0  24.0       2.0  -0.014093  -0.015866 -0.005449   \n",
      "2606  2018.0   12.0  25.0       3.0   0.000000   0.000000  0.000000   \n",
      "2607  2018.0   12.0  26.0       4.0  -0.009043   0.003501 -0.010076   \n",
      "2608  2018.0   12.0  27.0       5.0   0.021275   0.007799  0.016546   \n",
      "2609  2018.0   12.0  28.0       6.0  -0.005597  -0.000973  0.007245   \n",
      "\n",
      "      range_norm  \n",
      "0       0.049852  \n",
      "1      -0.351038  \n",
      "2      -0.251491  \n",
      "3      -0.160391  \n",
      "4       0.337214  \n",
      "...          ...  \n",
      "2605   -0.527656  \n",
      "2606    0.000000  \n",
      "2607    1.407910  \n",
      "2608   -0.364171  \n",
      "2609   -0.559706  \n",
      "\n",
      "[2610 rows x 8 columns]\n"
     ]
    }
   ],
   "source": [
    "X_train = train.drop(['close_norm'], axis=1)\n",
    "print(X_train)"
   ]
  },
  {
   "cell_type": "code",
   "execution_count": 18,
   "metadata": {},
   "outputs": [
    {
     "name": "stdout",
     "output_type": "stream",
     "text": [
      "0       1.0\n",
      "1       1.0\n",
      "2       0.0\n",
      "3       1.0\n",
      "4       1.0\n",
      "       ... \n",
      "2605    0.0\n",
      "2606    1.0\n",
      "2607    1.0\n",
      "2608    0.0\n",
      "2609    1.0\n",
      "Name: close_norm, Length: 2610, dtype: float64\n"
     ]
    }
   ],
   "source": [
    "y_test = test['close_norm']\n",
    "print(y_test)"
   ]
  },
  {
   "cell_type": "code",
   "execution_count": 19,
   "metadata": {},
   "outputs": [
    {
     "name": "stdout",
     "output_type": "stream",
     "text": [
      "        year  month   day  day_week  open_norm  high_norm  low_norm  \\\n",
      "0     2008.0   12.0  29.0       2.0  -0.038202  -0.014263 -0.017903   \n",
      "1     2008.0   12.0  30.0       3.0   0.044757   0.028949  0.052009   \n",
      "2     2008.0   12.0  31.0       4.0   0.021239   0.001252  0.010713   \n",
      "3     2009.0    1.0   1.0       5.0  -0.014752   0.003086  0.007619   \n",
      "4     2009.0    1.0   2.0       6.0   0.026897   0.024050  0.016815   \n",
      "...      ...    ...   ...       ...        ...        ...       ...   \n",
      "2605  2018.0   12.0  24.0       2.0  -0.014093  -0.015866 -0.005449   \n",
      "2606  2018.0   12.0  25.0       3.0   0.000000   0.000000  0.000000   \n",
      "2607  2018.0   12.0  26.0       4.0  -0.009043   0.003501 -0.010076   \n",
      "2608  2018.0   12.0  27.0       5.0   0.021275   0.007799  0.016546   \n",
      "2609  2018.0   12.0  28.0       6.0  -0.005597  -0.000973  0.007245   \n",
      "\n",
      "      range_norm  \n",
      "0       0.049852  \n",
      "1      -0.351038  \n",
      "2      -0.251491  \n",
      "3      -0.160391  \n",
      "4       0.337214  \n",
      "...          ...  \n",
      "2605   -0.527656  \n",
      "2606    0.000000  \n",
      "2607    1.407910  \n",
      "2608   -0.364171  \n",
      "2609   -0.559706  \n",
      "\n",
      "[2610 rows x 8 columns]\n"
     ]
    }
   ],
   "source": [
    "X_test = test.drop(['close_norm'], axis=1)\n",
    "print(X_test)"
   ]
  },
  {
   "cell_type": "code",
   "execution_count": 20,
   "metadata": {},
   "outputs": [
    {
     "data": {
      "image/png": "[encoded data removed]",
      "text/plain": [
       "<Figure size 432x288 with 1 Axes>"
      ]
     },
     "metadata": {
      "needs_background": "light"
     },
     "output_type": "display_data"
    }
   ],
   "source": [
    "ax = sns.distplot(y_train)\n",
    "pyplot.show()"
   ]
  },
  {
   "cell_type": "code",
   "execution_count": 21,
   "metadata": {},
   "outputs": [],
   "source": [
    "from sklearn.tree import DecisionTreeClassifier\n",
    "from sklearn.metrics import confusion_matrix\n",
    "from sklearn.metrics import accuracy_score \n",
    "from sklearn.metrics import classification_report"
   ]
  },
  {
   "cell_type": "code",
   "execution_count": 22,
   "metadata": {},
   "outputs": [],
   "source": [
    "model = DecisionTreeClassifier(criterion = \"gini\",random_state = 100,max_depth=3, min_samples_leaf=5)"
   ]
  },
  {
   "cell_type": "code",
   "execution_count": 23,
   "metadata": {},
   "outputs": [
    {
     "data": {
      "text/plain": [
       "DecisionTreeClassifier(class_weight=None, criterion='gini', max_depth=3,\n",
       "                       max_features=None, max_leaf_nodes=None,\n",
       "                       min_impurity_decrease=0.0, min_impurity_split=None,\n",
       "                       min_samples_leaf=5, min_samples_split=2,\n",
       "                       min_weight_fraction_leaf=0.0, presort=False,\n",
       "                       random_state=100, splitter='best')"
      ]
     },
     "execution_count": 23,
     "metadata": {},
     "output_type": "execute_result"
    }
   ],
   "source": [
    "model.fit(X_train, y_train)"
   ]
  },
  {
   "cell_type": "code",
   "execution_count": 24,
   "metadata": {},
   "outputs": [
    {
     "data": {
      "text/plain": [
       "0.8042145593869732"
      ]
     },
     "execution_count": 24,
     "metadata": {},
     "output_type": "execute_result"
    }
   ],
   "source": [
    "model.score(X_train, y_train)"
   ]
  },
  {
   "cell_type": "code",
   "execution_count": 25,
   "metadata": {},
   "outputs": [
    {
     "name": "stdout",
     "output_type": "stream",
     "text": [
      "DecisionTreeClassifier(class_weight=None, criterion='gini', max_depth=3,\n",
      "                       max_features=None, max_leaf_nodes=None,\n",
      "                       min_impurity_decrease=0.0, min_impurity_split=None,\n",
      "                       min_samples_leaf=5, min_samples_split=2,\n",
      "                       min_weight_fraction_leaf=0.0, presort=False,\n",
      "                       random_state=100, splitter='best')\n",
      "[0. 1. 0. ... 0. 1. 1.]\n"
     ]
    }
   ],
   "source": [
    "y_pred = model.predict(X_test)\n",
    "print(model)\n",
    "#print(model.summary())\n",
    "print(y_pred)\n"
   ]
  },
  {
   "cell_type": "code",
   "execution_count": 26,
   "metadata": {},
   "outputs": [
    {
     "name": "stdout",
     "output_type": "stream",
     "text": [
      "Confusion Matrix:  [[ 993  166]\n",
      " [ 345 1106]]\n",
      "Accuracy :  80.42145593869732\n",
      "Report :                precision    recall  f1-score   support\n",
      "\n",
      "         0.0       0.74      0.86      0.80      1159\n",
      "         1.0       0.87      0.76      0.81      1451\n",
      "\n",
      "    accuracy                           0.80      2610\n",
      "   macro avg       0.81      0.81      0.80      2610\n",
      "weighted avg       0.81      0.80      0.80      2610\n",
      "\n"
     ]
    }
   ],
   "source": [
    "print(\"Confusion Matrix: \", \n",
    "confusion_matrix(y_test, y_pred)) \n",
    "      \n",
    "print (\"Accuracy : \", \n",
    "accuracy_score(y_test,y_pred)*100) \n",
    "      \n",
    "print(\"Report : \", \n",
    "classification_report(y_test, y_pred))"
   ]
  },
  {
   "cell_type": "code",
   "execution_count": 27,
   "metadata": {},
   "outputs": [],
   "source": [
    "#pyplot.title(\"Actual Vs Predicted\")\n",
    "#pyplot.plot(y_test , label='Actual')\n",
    "#pyplot.plot(y_pred , linestyle='dashed' , label='Predicted')\n",
    "#pyplot.legend()\n",
    "#pyplot.xlabel('Observation')\n",
    "#pyplot.ylabel('Close Prices')\n",
    "#pyplot.show()"
   ]
  },
  {
   "cell_type": "code",
   "execution_count": 28,
   "metadata": {
    "scrolled": true
   },
   "outputs": [],
   "source": [
    "#pyplot.scatter(y_test, y_pred)\n",
    "#pyplot.show()"
   ]
  },
  {
   "cell_type": "code",
   "execution_count": 29,
   "metadata": {},
   "outputs": [],
   "source": [
    "#plot_lm_1 = pyplot.figure()\n",
    "#plot_lm_1.axes[0] = sns.residplot(y_pred, test.columns[-5], data=test,\n",
    "                          #lowess=True,\n",
    "                          #scatter_kws={'alpha': 0.5},\n",
    "                          #line_kws={'color': 'red', 'lw': 1, 'alpha': 0.8})\n",
    "\n",
    "#plot_lm_1.axes[0].set_title('Residuals vs Fitted')\n",
    "#plot_lm_1.axes[0].set_xlabel('Fitted values')\n",
    "#plot_lm_1.axes[0].set_ylabel('Residuals');"
   ]
  },
  {
   "cell_type": "code",
   "execution_count": null,
   "metadata": {},
   "outputs": [],
   "source": []
  }
 ],
 "metadata": {
  "kernelspec": {
   "display_name": "Python 3",
   "language": "python",
   "name": "python3"
  },
  "language_info": {
   "codemirror_mode": {
    "name": "ipython",
    "version": 3
   },
   "file_extension": ".py",
   "mimetype": "text/x-python",
   "name": "python",
   "nbconvert_exporter": "python",
   "pygments_lexer": "ipython3",
   "version": "3.7.4"
  }
 },
 "nbformat": 4,
 "nbformat_minor": 2
}
