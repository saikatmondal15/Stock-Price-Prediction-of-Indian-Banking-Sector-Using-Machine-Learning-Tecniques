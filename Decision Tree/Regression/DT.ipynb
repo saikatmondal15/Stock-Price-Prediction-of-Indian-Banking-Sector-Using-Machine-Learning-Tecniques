{
 "cells": [
  {
   "cell_type": "code",
   "execution_count": 1,
   "metadata": {},
   "outputs": [
    {
     "data": {
      "text/html": [
       "<div>\n",
       "<style scoped>\n",
       "    .dataframe tbody tr th:only-of-type {\n",
       "        vertical-align: middle;\n",
       "    }\n",
       "\n",
       "    .dataframe tbody tr th {\n",
       "        vertical-align: top;\n",
       "    }\n",
       "\n",
       "    .dataframe thead th {\n",
       "        text-align: right;\n",
       "    }\n",
       "</style>\n",
       "<table border=\"1\" class=\"dataframe\">\n",
       "  <thead>\n",
       "    <tr style=\"text-align: right;\">\n",
       "      <th></th>\n",
       "      <th>year</th>\n",
       "      <th>month</th>\n",
       "      <th>day</th>\n",
       "      <th>day_week</th>\n",
       "      <th>close_norm</th>\n",
       "      <th>open_norm</th>\n",
       "      <th>high_norm</th>\n",
       "      <th>low_norm</th>\n",
       "      <th>range_norm</th>\n",
       "    </tr>\n",
       "  </thead>\n",
       "  <tbody>\n",
       "    <tr>\n",
       "      <td>count</td>\n",
       "      <td>2610.000000</td>\n",
       "      <td>2610.000000</td>\n",
       "      <td>2610.000000</td>\n",
       "      <td>2610.000000</td>\n",
       "      <td>2610.000000</td>\n",
       "      <td>2610.000000</td>\n",
       "      <td>2610.000000</td>\n",
       "      <td>2610.000000</td>\n",
       "      <td>2610.000000</td>\n",
       "    </tr>\n",
       "    <tr>\n",
       "      <td>mean</td>\n",
       "      <td>2013.491571</td>\n",
       "      <td>6.528736</td>\n",
       "      <td>15.736398</td>\n",
       "      <td>3.999234</td>\n",
       "      <td>0.000784</td>\n",
       "      <td>0.000779</td>\n",
       "      <td>0.000746</td>\n",
       "      <td>0.000780</td>\n",
       "      <td>0.154307</td>\n",
       "    </tr>\n",
       "    <tr>\n",
       "      <td>std</td>\n",
       "      <td>2.876286</td>\n",
       "      <td>3.450040</td>\n",
       "      <td>8.803216</td>\n",
       "      <td>1.413942</td>\n",
       "      <td>0.015480</td>\n",
       "      <td>0.016098</td>\n",
       "      <td>0.014235</td>\n",
       "      <td>0.015184</td>\n",
       "      <td>0.718611</td>\n",
       "    </tr>\n",
       "    <tr>\n",
       "      <td>min</td>\n",
       "      <td>2008.000000</td>\n",
       "      <td>1.000000</td>\n",
       "      <td>1.000000</td>\n",
       "      <td>2.000000</td>\n",
       "      <td>-0.084211</td>\n",
       "      <td>-0.096846</td>\n",
       "      <td>-0.080913</td>\n",
       "      <td>-0.123607</td>\n",
       "      <td>-2.114471</td>\n",
       "    </tr>\n",
       "    <tr>\n",
       "      <td>25%</td>\n",
       "      <td>2011.000000</td>\n",
       "      <td>4.000000</td>\n",
       "      <td>8.000000</td>\n",
       "      <td>3.000000</td>\n",
       "      <td>-0.006747</td>\n",
       "      <td>-0.007242</td>\n",
       "      <td>-0.005541</td>\n",
       "      <td>-0.006241</td>\n",
       "      <td>-0.303697</td>\n",
       "    </tr>\n",
       "    <tr>\n",
       "      <td>50%</td>\n",
       "      <td>2013.000000</td>\n",
       "      <td>7.000000</td>\n",
       "      <td>16.000000</td>\n",
       "      <td>4.000000</td>\n",
       "      <td>0.000073</td>\n",
       "      <td>0.000000</td>\n",
       "      <td>0.000149</td>\n",
       "      <td>0.000000</td>\n",
       "      <td>0.000000</td>\n",
       "    </tr>\n",
       "    <tr>\n",
       "      <td>75%</td>\n",
       "      <td>2016.000000</td>\n",
       "      <td>10.000000</td>\n",
       "      <td>23.000000</td>\n",
       "      <td>5.000000</td>\n",
       "      <td>0.008141</td>\n",
       "      <td>0.008686</td>\n",
       "      <td>0.006842</td>\n",
       "      <td>0.007603</td>\n",
       "      <td>0.396617</td>\n",
       "    </tr>\n",
       "    <tr>\n",
       "      <td>max</td>\n",
       "      <td>2018.000000</td>\n",
       "      <td>12.000000</td>\n",
       "      <td>31.000000</td>\n",
       "      <td>6.000000</td>\n",
       "      <td>0.188146</td>\n",
       "      <td>0.142209</td>\n",
       "      <td>0.192929</td>\n",
       "      <td>0.142209</td>\n",
       "      <td>7.958861</td>\n",
       "    </tr>\n",
       "  </tbody>\n",
       "</table>\n",
       "</div>"
      ],
      "text/plain": [
       "              year        month          day     day_week   close_norm  \\\n",
       "count  2610.000000  2610.000000  2610.000000  2610.000000  2610.000000   \n",
       "mean   2013.491571     6.528736    15.736398     3.999234     0.000784   \n",
       "std       2.876286     3.450040     8.803216     1.413942     0.015480   \n",
       "min    2008.000000     1.000000     1.000000     2.000000    -0.084211   \n",
       "25%    2011.000000     4.000000     8.000000     3.000000    -0.006747   \n",
       "50%    2013.000000     7.000000    16.000000     4.000000     0.000073   \n",
       "75%    2016.000000    10.000000    23.000000     5.000000     0.008141   \n",
       "max    2018.000000    12.000000    31.000000     6.000000     0.188146   \n",
       "\n",
       "         open_norm    high_norm     low_norm   range_norm  \n",
       "count  2610.000000  2610.000000  2610.000000  2610.000000  \n",
       "mean      0.000779     0.000746     0.000780     0.154307  \n",
       "std       0.016098     0.014235     0.015184     0.718611  \n",
       "min      -0.096846    -0.080913    -0.123607    -2.114471  \n",
       "25%      -0.007242    -0.005541    -0.006241    -0.303697  \n",
       "50%       0.000000     0.000149     0.000000     0.000000  \n",
       "75%       0.008686     0.006842     0.007603     0.396617  \n",
       "max       0.142209     0.192929     0.142209     7.958861  "
      ]
     },
     "execution_count": 1,
     "metadata": {},
     "output_type": "execute_result"
    }
   ],
   "source": [
    "# -*- coding: utf-8 -*-\n",
    "import math\n",
    "import pandas as pd\n",
    "import sklearn\n",
    "import numpy as np\n",
    "from pyearth import Earth\n",
    "import matplotlib.pyplot as pyplot \n",
    "import seaborn as sns\n",
    "from scipy.stats import skew, skewtest\n",
    "\n",
    "train = pd.read_csv(\"/home/saikat/Documents/2020/Project/Dataset_ML_reg.csv\")\n",
    "test = pd.read_csv(\"/home/saikat/Documents/2020/Project/Dataset_ML_reg.csv\")\n",
    "\n",
    "train.describe()\n"
   ]
  },
  {
   "cell_type": "code",
   "execution_count": 2,
   "metadata": {},
   "outputs": [
    {
     "data": {
      "text/plain": [
       "False"
      ]
     },
     "execution_count": 2,
     "metadata": {},
     "output_type": "execute_result"
    }
   ],
   "source": [
    "train.isnull().values.any()"
   ]
  },
  {
   "cell_type": "code",
   "execution_count": 3,
   "metadata": {},
   "outputs": [
    {
     "name": "stdout",
     "output_type": "stream",
     "text": [
      "0       0.034346\n",
      "1       0.021851\n",
      "2      -0.011981\n",
      "3       0.022993\n",
      "4       0.015352\n",
      "          ...   \n",
      "2605   -0.005765\n",
      "2606    0.000000\n",
      "2607    0.010184\n",
      "2608   -0.004011\n",
      "2609    0.009178\n",
      "Name: close_norm, Length: 2610, dtype: float64\n"
     ]
    }
   ],
   "source": [
    "y_train = train['close_norm']\n",
    "print(y_train)"
   ]
  },
  {
   "cell_type": "code",
   "execution_count": 4,
   "metadata": {},
   "outputs": [
    {
     "name": "stdout",
     "output_type": "stream",
     "text": [
      "      year  month  day  day_week  open_norm  high_norm  low_norm  range_norm\n",
      "0     2008     12   29         2  -0.038202  -0.014263 -0.017903    0.049852\n",
      "1     2008     12   30         3   0.044757   0.028949  0.052009   -0.351038\n",
      "2     2008     12   31         4   0.021239   0.001252  0.010713   -0.251491\n",
      "3     2009      1    1         5  -0.014752   0.003086  0.007619   -0.160391\n",
      "4     2009      1    2         6   0.026897   0.024050  0.016815    0.337214\n",
      "...    ...    ...  ...       ...        ...        ...       ...         ...\n",
      "2605  2018     12   24         2  -0.014093  -0.015866 -0.005449   -0.527656\n",
      "2606  2018     12   25         3   0.000000   0.000000  0.000000    0.000000\n",
      "2607  2018     12   26         4  -0.009043   0.003501 -0.010076    1.407910\n",
      "2608  2018     12   27         5   0.021275   0.007799  0.016546   -0.364171\n",
      "2609  2018     12   28         6  -0.005597  -0.000973  0.007245   -0.559706\n",
      "\n",
      "[2610 rows x 8 columns]\n"
     ]
    }
   ],
   "source": [
    "X_train = train.drop(['close_norm'], axis=1)\n",
    "print(X_train)"
   ]
  },
  {
   "cell_type": "code",
   "execution_count": 5,
   "metadata": {},
   "outputs": [
    {
     "name": "stdout",
     "output_type": "stream",
     "text": [
      "0       0.034346\n",
      "1       0.021851\n",
      "2      -0.011981\n",
      "3       0.022993\n",
      "4       0.015352\n",
      "          ...   \n",
      "2605   -0.005765\n",
      "2606    0.000000\n",
      "2607    0.010184\n",
      "2608   -0.004011\n",
      "2609    0.009178\n",
      "Name: close_norm, Length: 2610, dtype: float64\n"
     ]
    }
   ],
   "source": [
    "y_test = test['close_norm']\n",
    "print(y_test)"
   ]
  },
  {
   "cell_type": "code",
   "execution_count": 6,
   "metadata": {},
   "outputs": [
    {
     "name": "stdout",
     "output_type": "stream",
     "text": [
      "      year  month  day  day_week  open_norm  high_norm  low_norm  range_norm\n",
      "0     2008     12   29         2  -0.038202  -0.014263 -0.017903    0.049852\n",
      "1     2008     12   30         3   0.044757   0.028949  0.052009   -0.351038\n",
      "2     2008     12   31         4   0.021239   0.001252  0.010713   -0.251491\n",
      "3     2009      1    1         5  -0.014752   0.003086  0.007619   -0.160391\n",
      "4     2009      1    2         6   0.026897   0.024050  0.016815    0.337214\n",
      "...    ...    ...  ...       ...        ...        ...       ...         ...\n",
      "2605  2018     12   24         2  -0.014093  -0.015866 -0.005449   -0.527656\n",
      "2606  2018     12   25         3   0.000000   0.000000  0.000000    0.000000\n",
      "2607  2018     12   26         4  -0.009043   0.003501 -0.010076    1.407910\n",
      "2608  2018     12   27         5   0.021275   0.007799  0.016546   -0.364171\n",
      "2609  2018     12   28         6  -0.005597  -0.000973  0.007245   -0.559706\n",
      "\n",
      "[2610 rows x 8 columns]\n"
     ]
    }
   ],
   "source": [
    "X_test = test.drop(['close_norm'], axis=1)\n",
    "print(X_test)"
   ]
  },
  {
   "cell_type": "code",
   "execution_count": 7,
   "metadata": {},
   "outputs": [
    {
     "data": {
      "image/png": "[encoded data removed]",
      "text/plain": [
       "<Figure size 432x288 with 1 Axes>"
      ]
     },
     "metadata": {
      "needs_background": "light"
     },
     "output_type": "display_data"
    }
   ],
   "source": [
    "ax = sns.distplot(y_train)\n",
    "pyplot.show()"
   ]
  },
  {
   "cell_type": "code",
   "execution_count": 8,
   "metadata": {},
   "outputs": [],
   "source": [
    "from sklearn.tree import DecisionTreeRegressor"
   ]
  },
  {
   "cell_type": "code",
   "execution_count": 9,
   "metadata": {},
   "outputs": [],
   "source": [
    "model = DecisionTreeRegressor(random_state = 0)"
   ]
  },
  {
   "cell_type": "code",
   "execution_count": 10,
   "metadata": {},
   "outputs": [
    {
     "data": {
      "text/plain": [
       "DecisionTreeRegressor(criterion='mse', max_depth=None, max_features=None,\n",
       "                      max_leaf_nodes=None, min_impurity_decrease=0.0,\n",
       "                      min_impurity_split=None, min_samples_leaf=1,\n",
       "                      min_samples_split=2, min_weight_fraction_leaf=0.0,\n",
       "                      presort=False, random_state=0, splitter='best')"
      ]
     },
     "execution_count": 10,
     "metadata": {},
     "output_type": "execute_result"
    }
   ],
   "source": [
    "model.fit(X_train, y_train)"
   ]
  },
  {
   "cell_type": "code",
   "execution_count": 11,
   "metadata": {},
   "outputs": [
    {
     "data": {
      "text/plain": [
       "0.9999289099688139"
      ]
     },
     "execution_count": 11,
     "metadata": {},
     "output_type": "execute_result"
    }
   ],
   "source": [
    "model.score(X_train, y_train)"
   ]
  },
  {
   "cell_type": "code",
   "execution_count": 12,
   "metadata": {},
   "outputs": [
    {
     "name": "stdout",
     "output_type": "stream",
     "text": [
      "DecisionTreeRegressor(criterion='mse', max_depth=None, max_features=None,\n",
      "                      max_leaf_nodes=None, min_impurity_decrease=0.0,\n",
      "                      min_impurity_split=None, min_samples_leaf=1,\n",
      "                      min_samples_split=2, min_weight_fraction_leaf=0.0,\n",
      "                      presort=False, random_state=0, splitter='best')\n",
      "[ 0.03434632  0.02185125 -0.01198096 ...  0.01018351 -0.00394914\n",
      "  0.00947132]\n"
     ]
    }
   ],
   "source": [
    "y_pred = model.predict(X_test)\n",
    "print(model)\n",
    "#print(model.summary())\n",
    "print(y_pred)\n"
   ]
  },
  {
   "cell_type": "code",
   "execution_count": 14,
   "metadata": {},
   "outputs": [
    {
     "name": "stdout",
     "output_type": "stream",
     "text": [
      "1.2256178992503297\n",
      "Pearsons correlation: 1.000\n"
     ]
    }
   ],
   "source": [
    "from scipy.stats import pearsonr\n",
    "\n",
    "mse = sklearn.metrics.mean_squared_error(y_test, y_pred)\n",
    "\n",
    "rmse = math.sqrt(mse)\n",
    "y_abs = abs(y_test)\n",
    "rmse_by_mean = rmse/np.mean(y_abs)\n",
    "print(rmse_by_mean*100)\n",
    "# calculate Pearson's correlation\n",
    "corr, _ = pearsonr(y_test, y_pred)\n",
    "print('Pearsons correlation: %.3f' % corr)"
   ]
  },
  {
   "cell_type": "code",
   "execution_count": 15,
   "metadata": {},
   "outputs": [
    {
     "data": {
      "image/png": "[encoded data removed]",
      "text/plain": [
       "<Figure size 432x288 with 1 Axes>"
      ]
     },
     "metadata": {
      "needs_background": "light"
     },
     "output_type": "display_data"
    }
   ],
   "source": [
    "pyplot.title(\"Actual Vs Predicted\")\n",
    "pyplot.plot(y_test , label='Actual')\n",
    "pyplot.plot(y_pred , linestyle='dashed' , label='Predicted')\n",
    "pyplot.legend()\n",
    "pyplot.xlabel('Observation')\n",
    "pyplot.ylabel('Close Prices')\n",
    "pyplot.show()"
   ]
  },
  {
   "cell_type": "code",
   "execution_count": 16,
   "metadata": {},
   "outputs": [
    {
     "data": {
      "image/png": "[encoded data removed]",
      "text/plain": [
       "<Figure size 432x288 with 1 Axes>"
      ]
     },
     "metadata": {
      "needs_background": "light"
     },
     "output_type": "display_data"
    }
   ],
   "source": [
    "pyplot.scatter(y_test, y_pred)\n",
    "pyplot.show()"
   ]
  },
  {
   "cell_type": "code",
   "execution_count": 17,
   "metadata": {},
   "outputs": [
    {
     "data": {
      "image/png": "[encoded data removed]",
      "text/plain": [
       "<Figure size 432x288 with 1 Axes>"
      ]
     },
     "metadata": {
      "needs_background": "light"
     },
     "output_type": "display_data"
    }
   ],
   "source": [
    "plot_lm_1 = pyplot.figure()\n",
    "plot_lm_1.axes[0] = sns.residplot(y_pred, test.columns[-5], data=test,\n",
    "                          lowess=True,\n",
    "                          scatter_kws={'alpha': 0.5},\n",
    "                          line_kws={'color': 'red', 'lw': 1, 'alpha': 0.8})\n",
    "\n",
    "plot_lm_1.axes[0].set_title('Residuals vs Fitted')\n",
    "plot_lm_1.axes[0].set_xlabel('Fitted values')\n",
    "plot_lm_1.axes[0].set_ylabel('Residuals');"
   ]
  },
  {
   "cell_type": "code",
   "execution_count": null,
   "metadata": {},
   "outputs": [],
   "source": []
  }
 ],
 "metadata": {
  "kernelspec": {
   "display_name": "Python 3",
   "language": "python",
   "name": "python3"
  },
  "language_info": {
   "codemirror_mode": {
    "name": "ipython",
    "version": 3
   },
   "file_extension": ".py",
   "mimetype": "text/x-python",
   "name": "python",
   "nbconvert_exporter": "python",
   "pygments_lexer": "ipython3",
   "version": "3.7.4"
  }
 },
 "nbformat": 4,
 "nbformat_minor": 2
}
