{
 "cells": [
  {
   "cell_type": "code",
   "execution_count": 16,
   "metadata": {},
   "outputs": [
    {
     "data": {
      "text/html": [
       "<div>\n",
       "<style scoped>\n",
       "    .dataframe tbody tr th:only-of-type {\n",
       "        vertical-align: middle;\n",
       "    }\n",
       "\n",
       "    .dataframe tbody tr th {\n",
       "        vertical-align: top;\n",
       "    }\n",
       "\n",
       "    .dataframe thead th {\n",
       "        text-align: right;\n",
       "    }\n",
       "</style>\n",
       "<table border=\"1\" class=\"dataframe\">\n",
       "  <thead>\n",
       "    <tr style=\"text-align: right;\">\n",
       "      <th></th>\n",
       "      <th>year</th>\n",
       "      <th>month</th>\n",
       "      <th>day</th>\n",
       "      <th>day_week</th>\n",
       "      <th>close_norm</th>\n",
       "      <th>open_norm</th>\n",
       "      <th>high_norm</th>\n",
       "      <th>low_norm</th>\n",
       "      <th>range_norm</th>\n",
       "    </tr>\n",
       "  </thead>\n",
       "  <tbody>\n",
       "    <tr>\n",
       "      <td>count</td>\n",
       "      <td>2610.000000</td>\n",
       "      <td>2610.000000</td>\n",
       "      <td>2610.000000</td>\n",
       "      <td>2610.000000</td>\n",
       "      <td>2610.000000</td>\n",
       "      <td>2610.000000</td>\n",
       "      <td>2610.000000</td>\n",
       "      <td>2610.000000</td>\n",
       "      <td>2610.000000</td>\n",
       "    </tr>\n",
       "    <tr>\n",
       "      <td>mean</td>\n",
       "      <td>2013.491571</td>\n",
       "      <td>6.528736</td>\n",
       "      <td>15.736398</td>\n",
       "      <td>3.999234</td>\n",
       "      <td>0.000784</td>\n",
       "      <td>0.000779</td>\n",
       "      <td>0.000746</td>\n",
       "      <td>0.000780</td>\n",
       "      <td>0.154307</td>\n",
       "    </tr>\n",
       "    <tr>\n",
       "      <td>std</td>\n",
       "      <td>2.876286</td>\n",
       "      <td>3.450040</td>\n",
       "      <td>8.803216</td>\n",
       "      <td>1.413942</td>\n",
       "      <td>0.015480</td>\n",
       "      <td>0.016098</td>\n",
       "      <td>0.014235</td>\n",
       "      <td>0.015184</td>\n",
       "      <td>0.718611</td>\n",
       "    </tr>\n",
       "    <tr>\n",
       "      <td>min</td>\n",
       "      <td>2008.000000</td>\n",
       "      <td>1.000000</td>\n",
       "      <td>1.000000</td>\n",
       "      <td>2.000000</td>\n",
       "      <td>-0.084211</td>\n",
       "      <td>-0.096846</td>\n",
       "      <td>-0.080913</td>\n",
       "      <td>-0.123607</td>\n",
       "      <td>-2.114471</td>\n",
       "    </tr>\n",
       "    <tr>\n",
       "      <td>25%</td>\n",
       "      <td>2011.000000</td>\n",
       "      <td>4.000000</td>\n",
       "      <td>8.000000</td>\n",
       "      <td>3.000000</td>\n",
       "      <td>-0.006747</td>\n",
       "      <td>-0.007242</td>\n",
       "      <td>-0.005541</td>\n",
       "      <td>-0.006241</td>\n",
       "      <td>-0.303697</td>\n",
       "    </tr>\n",
       "    <tr>\n",
       "      <td>50%</td>\n",
       "      <td>2013.000000</td>\n",
       "      <td>7.000000</td>\n",
       "      <td>16.000000</td>\n",
       "      <td>4.000000</td>\n",
       "      <td>0.000073</td>\n",
       "      <td>0.000000</td>\n",
       "      <td>0.000149</td>\n",
       "      <td>0.000000</td>\n",
       "      <td>0.000000</td>\n",
       "    </tr>\n",
       "    <tr>\n",
       "      <td>75%</td>\n",
       "      <td>2016.000000</td>\n",
       "      <td>10.000000</td>\n",
       "      <td>23.000000</td>\n",
       "      <td>5.000000</td>\n",
       "      <td>0.008141</td>\n",
       "      <td>0.008686</td>\n",
       "      <td>0.006842</td>\n",
       "      <td>0.007603</td>\n",
       "      <td>0.396617</td>\n",
       "    </tr>\n",
       "    <tr>\n",
       "      <td>max</td>\n",
       "      <td>2018.000000</td>\n",
       "      <td>12.000000</td>\n",
       "      <td>31.000000</td>\n",
       "      <td>6.000000</td>\n",
       "      <td>0.188146</td>\n",
       "      <td>0.142209</td>\n",
       "      <td>0.192929</td>\n",
       "      <td>0.142209</td>\n",
       "      <td>7.958861</td>\n",
       "    </tr>\n",
       "  </tbody>\n",
       "</table>\n",
       "</div>"
      ],
      "text/plain": [
       "              year        month          day     day_week   close_norm  \\\n",
       "count  2610.000000  2610.000000  2610.000000  2610.000000  2610.000000   \n",
       "mean   2013.491571     6.528736    15.736398     3.999234     0.000784   \n",
       "std       2.876286     3.450040     8.803216     1.413942     0.015480   \n",
       "min    2008.000000     1.000000     1.000000     2.000000    -0.084211   \n",
       "25%    2011.000000     4.000000     8.000000     3.000000    -0.006747   \n",
       "50%    2013.000000     7.000000    16.000000     4.000000     0.000073   \n",
       "75%    2016.000000    10.000000    23.000000     5.000000     0.008141   \n",
       "max    2018.000000    12.000000    31.000000     6.000000     0.188146   \n",
       "\n",
       "         open_norm    high_norm     low_norm   range_norm  \n",
       "count  2610.000000  2610.000000  2610.000000  2610.000000  \n",
       "mean      0.000779     0.000746     0.000780     0.154307  \n",
       "std       0.016098     0.014235     0.015184     0.718611  \n",
       "min      -0.096846    -0.080913    -0.123607    -2.114471  \n",
       "25%      -0.007242    -0.005541    -0.006241    -0.303697  \n",
       "50%       0.000000     0.000149     0.000000     0.000000  \n",
       "75%       0.008686     0.006842     0.007603     0.396617  \n",
       "max       0.142209     0.192929     0.142209     7.958861  "
      ]
     },
     "execution_count": 16,
     "metadata": {},
     "output_type": "execute_result"
    }
   ],
   "source": [
    "# -*- coding: utf-8 -*-\n",
    "import math\n",
    "import pandas as pd\n",
    "import sklearn\n",
    "import numpy as np\n",
    "from pyearth import Earth\n",
    "import matplotlib.pyplot as pyplot \n",
    "import seaborn as sns\n",
    "from scipy.stats import skew, skewtest\n",
    "\n",
    "train = pd.read_csv(\"/home/saikat/Documents/2020/Project/Dataset_ML_reg.csv\")\n",
    "test = pd.read_csv(\"/home/saikat/Documents/2020/Project/Dataset_ML_reg_test.csv\")\n",
    "\n",
    "train.describe()\n"
   ]
  },
  {
   "cell_type": "code",
   "execution_count": 17,
   "metadata": {},
   "outputs": [
    {
     "data": {
      "text/plain": [
       "False"
      ]
     },
     "execution_count": 17,
     "metadata": {},
     "output_type": "execute_result"
    }
   ],
   "source": [
    "train.isnull().values.any()"
   ]
  },
  {
   "cell_type": "code",
   "execution_count": 18,
   "metadata": {},
   "outputs": [
    {
     "name": "stdout",
     "output_type": "stream",
     "text": [
      "0       0.034346\n",
      "1       0.021851\n",
      "2      -0.011981\n",
      "3       0.022993\n",
      "4       0.015352\n",
      "          ...   \n",
      "2605   -0.005765\n",
      "2606    0.000000\n",
      "2607    0.010184\n",
      "2608   -0.004011\n",
      "2609    0.009178\n",
      "Name: close_norm, Length: 2610, dtype: float64\n"
     ]
    }
   ],
   "source": [
    "y_train = train['close_norm']\n",
    "print(y_train)"
   ]
  },
  {
   "cell_type": "code",
   "execution_count": 19,
   "metadata": {},
   "outputs": [
    {
     "name": "stdout",
     "output_type": "stream",
     "text": [
      "      year  month  day  day_week  open_norm  high_norm  low_norm  range_norm\n",
      "0     2008     12   29         2  -0.038202  -0.014263 -0.017903    0.049852\n",
      "1     2008     12   30         3   0.044757   0.028949  0.052009   -0.351038\n",
      "2     2008     12   31         4   0.021239   0.001252  0.010713   -0.251491\n",
      "3     2009      1    1         5  -0.014752   0.003086  0.007619   -0.160391\n",
      "4     2009      1    2         6   0.026897   0.024050  0.016815    0.337214\n",
      "...    ...    ...  ...       ...        ...        ...       ...         ...\n",
      "2605  2018     12   24         2  -0.014093  -0.015866 -0.005449   -0.527656\n",
      "2606  2018     12   25         3   0.000000   0.000000  0.000000    0.000000\n",
      "2607  2018     12   26         4  -0.009043   0.003501 -0.010076    1.407910\n",
      "2608  2018     12   27         5   0.021275   0.007799  0.016546   -0.364171\n",
      "2609  2018     12   28         6  -0.005597  -0.000973  0.007245   -0.559706\n",
      "\n",
      "[2610 rows x 8 columns]\n"
     ]
    }
   ],
   "source": [
    "X_train = train.drop(['close_norm'], axis=1)\n",
    "print(X_train)"
   ]
  },
  {
   "cell_type": "code",
   "execution_count": 20,
   "metadata": {},
   "outputs": [
    {
     "name": "stdout",
     "output_type": "stream",
     "text": [
      "0      0.001288\n",
      "1      0.008549\n",
      "2     -0.007947\n",
      "3     -0.007906\n",
      "4      0.008722\n",
      "         ...   \n",
      "255   -0.001405\n",
      "256   -0.001815\n",
      "257    0.000000\n",
      "258    0.000000\n",
      "259    0.004077\n",
      "Name: close_norm, Length: 260, dtype: float64\n"
     ]
    }
   ],
   "source": [
    "y_test = test['close_norm']\n",
    "print(y_test)"
   ]
  },
  {
   "cell_type": "code",
   "execution_count": 21,
   "metadata": {},
   "outputs": [
    {
     "name": "stdout",
     "output_type": "stream",
     "text": [
      "     year  month  day  day_week  open_norm  high_norm  low_norm  range_norm\n",
      "0    2018     12   31         2   0.008111   0.002684  0.002419    0.044003\n",
      "1    2019      1    1         3  -0.001335   0.005279 -0.003171    1.267218\n",
      "2    2019      1    2         4   0.002409  -0.001203  0.002167   -0.222479\n",
      "3    2019      1    3         5  -0.004228  -0.006984 -0.005682   -0.117206\n",
      "4    2019      1    4         6  -0.006692   0.002510  0.000087    0.233493\n",
      "..    ...    ...  ...       ...        ...        ...       ...         ...\n",
      "255  2019     12   23         2   0.003538   0.001832 -0.000081    0.254408\n",
      "256  2019     12   24         3  -0.001334  -0.003460  0.001528   -0.528354\n",
      "257  2019     12   25         4   0.000000   0.000000  0.000000    0.000000\n",
      "258  2019     12   26         5   0.000000   0.000000  0.000000    0.000000\n",
      "259  2019     12   27         6  -0.006039   0.001683 -0.005886    1.693001\n",
      "\n",
      "[260 rows x 8 columns]\n"
     ]
    }
   ],
   "source": [
    "X_test = test.drop(['close_norm'], axis=1)\n",
    "print(X_test)"
   ]
  },
  {
   "cell_type": "code",
   "execution_count": 22,
   "metadata": {},
   "outputs": [
    {
     "data": {
      "image/png": "[encoded data removed]",
      "text/plain": [
       "<Figure size 432x288 with 1 Axes>"
      ]
     },
     "metadata": {
      "needs_background": "light"
     },
     "output_type": "display_data"
    }
   ],
   "source": [
    "ax = sns.distplot(y_train)\n",
    "pyplot.show()"
   ]
  },
  {
   "cell_type": "code",
   "execution_count": 23,
   "metadata": {},
   "outputs": [],
   "source": [
    "model = Earth()"
   ]
  },
  {
   "cell_type": "code",
   "execution_count": 24,
   "metadata": {},
   "outputs": [],
   "source": [
    "model = Earth(max_degree=2, penalty=1.0, minspan_alpha = 0.01, endspan_alpha = 0.01, endspan=5)"
   ]
  },
  {
   "cell_type": "code",
   "execution_count": 25,
   "metadata": {},
   "outputs": [
    {
     "data": {
      "text/plain": [
       "Earth(allow_linear=None, allow_missing=False, check_every=None,\n",
       "      enable_pruning=True, endspan=5, endspan_alpha=0.01, fast_K=None,\n",
       "      fast_h=None, feature_importance_type=None, max_degree=2, max_terms=None,\n",
       "      min_search_points=None, minspan=None, minspan_alpha=0.01, penalty=1.0,\n",
       "      smooth=None, thresh=None, use_fast=None, verbose=0, zero_tol=None)"
      ]
     },
     "execution_count": 25,
     "metadata": {},
     "output_type": "execute_result"
    }
   ],
   "source": [
    "model.fit(X_train, y_train)"
   ]
  },
  {
   "cell_type": "code",
   "execution_count": 26,
   "metadata": {},
   "outputs": [
    {
     "data": {
      "text/plain": [
       "0.8422827903050476"
      ]
     },
     "execution_count": 26,
     "metadata": {},
     "output_type": "execute_result"
    }
   ],
   "source": [
    "model.score(X_train, y_train)"
   ]
  },
  {
   "cell_type": "code",
   "execution_count": 27,
   "metadata": {},
   "outputs": [
    {
     "name": "stdout",
     "output_type": "stream",
     "text": [
      "Earth(allow_linear=None, allow_missing=False, check_every=None,\n",
      "      enable_pruning=True, endspan=5, endspan_alpha=0.01, fast_K=None,\n",
      "      fast_h=None, feature_importance_type=None, max_degree=2, max_terms=None,\n",
      "      min_search_points=None, minspan=None, minspan_alpha=0.01, penalty=1.0,\n",
      "      smooth=None, thresh=None, use_fast=None, verbose=0, zero_tol=None)\n",
      "Earth Model\n",
      "----------------------------------------------------------------------\n",
      "Basis Function                                   Pruned  Coefficient  \n",
      "----------------------------------------------------------------------\n",
      "(Intercept)                                      No      -0.00869174  \n",
      "h(high_norm+0.00563082)                          No      0.360868     \n",
      "h(-0.00563082-high_norm)                         No      -0.199174    \n",
      "h(low_norm+0.00110639)                           Yes     None         \n",
      "h(-0.00110639-low_norm)                          No      -0.843592    \n",
      "h(open_norm-0.0106405)                           No      -0.686285    \n",
      "h(0.0106405-open_norm)                           No      0.699608     \n",
      "h(range_norm-4.99161)*h(-0.00110639-low_norm)    No      0.569251     \n",
      "h(4.99161-range_norm)*h(-0.00110639-low_norm)    No      -0.0495436   \n",
      "h(low_norm-0.0742233)*h(0.0106405-open_norm)     Yes     None         \n",
      "h(0.0742233-low_norm)*h(0.0106405-open_norm)     Yes     None         \n",
      "h(range_norm-1.58578)*h(high_norm+0.00563082)    No      -0.0689708   \n",
      "h(1.58578-range_norm)*h(high_norm+0.00563082)    No      -0.0514055   \n",
      "h(high_norm+0.0460916)*h(-0.00110639-low_norm)   Yes     None         \n",
      "h(-0.0460916-high_norm)*h(-0.00110639-low_norm)  No      -32.0275     \n",
      "h(high_norm-0.000787541)                         No      0.623622     \n",
      "h(0.000787541-high_norm)                         Yes     None         \n",
      "h(open_norm+0.0266418)*h(-0.00110639-low_norm)   Yes     None         \n",
      "h(-0.0266418-open_norm)*h(-0.00110639-low_norm)  No      14.7785      \n",
      "h(range_norm-0.155878)*h(0.0106405-open_norm)    No      -0.075847    \n",
      "h(0.155878-range_norm)*h(0.0106405-open_norm)    No      -0.251821    \n",
      "h(open_norm-0.0203696)*h(low_norm+0.00110639)    No      -39.3741     \n",
      "h(0.0203696-open_norm)*h(low_norm+0.00110639)    No      26.4842      \n",
      "low_norm*h(low_norm+0.00110639)                  No      -8.5261      \n",
      "h(open_norm-0.00169455)*h(low_norm+0.00110639)   No      48.6427      \n",
      "h(0.00169455-open_norm)*h(low_norm+0.00110639)   Yes     None         \n",
      "day*h(open_norm-0.0106405)                       No      -0.00902786  \n",
      "h(high_norm-0.00855285)*h(0.0106405-open_norm)   No      15.825       \n",
      "h(0.00855285-high_norm)*h(0.0106405-open_norm)   No      -3.97177     \n",
      "----------------------------------------------------------------------\n",
      "MSE: 0.0000, GCV: 0.0000, RSQ: 0.8423, GRSQ: 0.8384\n",
      "[-1.35604297e-03  2.95802148e-03 -1.23956416e-03 -5.51732043e-03\n",
      "  7.21728506e-03  5.62516377e-03 -1.63798026e-04  4.39862723e-03\n",
      " -1.21300478e-03 -2.09057826e-03 -5.50416278e-03  4.75804749e-03\n",
      "  3.17724432e-03 -3.93760032e-03  3.90576733e-04  2.00430599e-03\n",
      " -2.21897111e-03 -5.47573504e-03 -9.85788863e-04  9.84038407e-05\n",
      " -1.53742522e-02 -3.28971744e-03  5.99682173e-03  1.46669247e-02\n",
      " -5.78938962e-04 -6.50259023e-04  3.70881806e-03  1.91836969e-03\n",
      "  3.83580305e-03 -1.94625042e-03 -4.02896672e-03 -4.12227675e-03\n",
      " -5.53742493e-03  1.13530566e-04 -7.23156950e-03  1.10013086e-03\n",
      "  8.31596603e-03 -1.28554485e-03  3.06192308e-03 -4.25213507e-03\n",
      "  9.40388567e-03 -5.75052013e-03 -3.62131422e-03 -6.39073852e-06\n",
      "  6.17646404e-03  1.43124026e-04  1.33740334e-02  3.63780462e-03\n",
      "  4.74205755e-03  2.78167523e-05  6.84188350e-03  1.49055678e-02\n",
      "  1.21879697e-02  2.57870525e-03  1.95673702e-02  5.45310211e-03\n",
      " -1.02369058e-03  2.25646155e-03  1.43124026e-04 -3.19404299e-03\n",
      " -1.29366205e-02  2.21587579e-02  3.08745827e-03  9.31712362e-03\n",
      " -3.37380913e-03  3.09239642e-03 -2.83482796e-03  1.20309598e-03\n",
      " -6.39112250e-03  2.30566256e-03 -6.63949748e-03  4.94548749e-03\n",
      "  3.43785774e-04 -6.91897606e-03  7.50791622e-03  4.00094006e-03\n",
      "  1.37387956e-02  1.43124026e-04 -9.71389977e-03  1.43124026e-04\n",
      " -1.25947961e-02 -2.08583867e-03  4.70196170e-03 -2.47464078e-03\n",
      "  4.25111310e-03  1.43124026e-04 -4.96350761e-03  1.43124026e-04\n",
      "  5.89694076e-03  6.52091709e-03 -1.01716378e-02 -9.51383736e-03\n",
      " -9.69622366e-03 -1.37952494e-03  6.47627944e-03 -1.32200804e-02\n",
      "  6.67844790e-03 -5.73131113e-03  5.56730120e-03  2.09258526e-02\n",
      "  3.47843247e-02 -8.32470690e-03  4.49871215e-03  1.83916508e-02\n",
      "  5.56215950e-03  1.15671891e-02 -6.17360529e-03  2.47865148e-04\n",
      "  6.19126165e-03 -2.34716342e-02  1.36761277e-02  2.08534179e-03\n",
      "  1.43124026e-04 -2.47350161e-02 -6.43878595e-04  4.67749885e-03\n",
      "  3.94037070e-03 -4.78487876e-03 -3.41015368e-03 -5.72432893e-03\n",
      " -6.44345831e-03  3.96174145e-03  1.65346215e-04  6.61645893e-03\n",
      " -2.23375246e-03  2.14910780e-03  4.19850503e-03  8.83897903e-03\n",
      "  7.51698523e-03 -6.76850941e-03  6.46786850e-03 -6.95209809e-03\n",
      "  3.42780482e-03  3.82866411e-03 -2.56784385e-03 -2.52386764e-02\n",
      " -3.00351886e-03 -3.59797228e-04  1.15423715e-03  4.96922496e-04\n",
      " -6.27842432e-03  3.02206117e-03  5.29025907e-03 -7.70261789e-03\n",
      " -2.13300831e-02 -1.52065900e-02 -2.54574451e-03 -2.27012256e-03\n",
      "  2.90304534e-03  3.74950310e-03 -3.72828524e-03 -1.00538665e-02\n",
      " -2.05951581e-04 -2.07277589e-02  1.22244408e-03 -2.10783203e-02\n",
      "  2.18643120e-02 -8.22763182e-03  3.13353746e-03  1.58024066e-02\n",
      "  1.43124026e-04 -2.43111689e-02  6.35300034e-03  1.43124026e-04\n",
      "  3.96542034e-03  6.32139035e-03 -9.52423961e-03 -3.63440974e-03\n",
      " -2.29209254e-02 -3.65857975e-03  1.24890750e-02  1.53876183e-02\n",
      " -1.29915475e-02 -1.03820811e-02  6.18305613e-04  1.43124026e-04\n",
      " -1.39544803e-02  8.70461930e-03 -3.01621161e-03  6.75788846e-03\n",
      "  3.86207241e-03  1.43124026e-04  1.06747139e-02  6.61667118e-03\n",
      " -2.42873302e-03  2.36893418e-06 -2.76923839e-02  3.11085823e-03\n",
      " -1.64270544e-02  9.64989023e-02  3.39357721e-02 -7.02963386e-03\n",
      " -1.40178106e-02  3.86524592e-02 -9.39475278e-03 -2.42591256e-02\n",
      " -2.42802115e-02  1.43124026e-04  6.20785832e-03 -2.29726863e-02\n",
      "  3.11189677e-03  1.43124026e-04  2.79797394e-02 -1.16601797e-02\n",
      "  2.36388102e-03  3.41305449e-03  6.25108853e-03 -5.42204359e-03\n",
      "  1.59506162e-02  5.71547871e-03  1.43124026e-04  1.12060739e-02\n",
      " -2.15840146e-03 -8.60850844e-03  1.78102368e-03  1.43124026e-04\n",
      "  1.90128978e-02  1.15787735e-03  8.50859881e-03 -1.44421136e-04\n",
      "  4.79729383e-03 -5.66595200e-03  9.36523365e-03  2.54484713e-03\n",
      "  1.34035853e-02  2.44987246e-03  1.43124026e-04 -1.32344000e-02\n",
      " -1.99607537e-03  1.33523454e-02 -1.04487821e-03  3.73753190e-03\n",
      "  3.79729440e-03 -2.07077946e-03 -5.70182425e-03  1.29766392e-02\n",
      "  2.23712410e-03  1.84158958e-03  6.83784763e-03 -6.02303469e-03\n",
      " -4.66787700e-04 -5.47988094e-03  8.75556717e-03 -3.74797268e-03\n",
      " -8.47982201e-03 -3.46605887e-04 -3.07023748e-03  7.82009697e-04\n",
      "  1.25052554e-02  1.05898020e-02 -3.02031782e-03  2.80652101e-03\n",
      " -1.30404943e-03  1.61454070e-03  5.15434352e-03 -5.81277657e-04\n",
      " -9.21279526e-04  1.43124026e-04  1.43124026e-04 -1.09203672e-03]\n"
     ]
    }
   ],
   "source": [
    "y_pred = model.predict(X_test)\n",
    "print(model)\n",
    "print(model.summary())\n",
    "print(y_pred)\n"
   ]
  },
  {
   "cell_type": "code",
   "execution_count": 29,
   "metadata": {},
   "outputs": [
    {
     "name": "stdout",
     "output_type": "stream",
     "text": [
      "67.35537684930375\n",
      "Pearsons correlation: 0.889\n"
     ]
    }
   ],
   "source": [
    "from scipy.stats import pearsonr\n",
    "\n",
    "mse = sklearn.metrics.mean_squared_error(y_test, y_pred)\n",
    "\n",
    "rmse = math.sqrt(mse)\n",
    "y_abs = abs(y_test)\n",
    "rmse_by_mean = rmse/np.mean(y_abs)\n",
    "print(rmse_by_mean*100)\n",
    "# calculate Pearson's correlation\n",
    "corr, _ = pearsonr(y_test, y_pred)\n",
    "print('Pearsons correlation: %.3f' % corr)"
   ]
  },
  {
   "cell_type": "code",
   "execution_count": 14,
   "metadata": {},
   "outputs": [
    {
     "data": {
      "image/png": "[encoded data removed]",
      "text/plain": [
       "<Figure size 432x288 with 1 Axes>"
      ]
     },
     "metadata": {
      "needs_background": "light"
     },
     "output_type": "display_data"
    }
   ],
   "source": [
    "pyplot.title(\"Actual Vs Predicted\")\n",
    "pyplot.plot(y_test , label='Actual')\n",
    "pyplot.plot(y_pred , linestyle='dashed' , label='Predicted')\n",
    "pyplot.legend()\n",
    "pyplot.xlabel('Observation')\n",
    "pyplot.ylabel('Close Prices')\n",
    "pyplot.show()"
   ]
  },
  {
   "cell_type": "code",
   "execution_count": 15,
   "metadata": {},
   "outputs": [
    {
     "data": {
      "image/png": "[encoded data removed]",
      "text/plain": [
       "<Figure size 432x288 with 1 Axes>"
      ]
     },
     "metadata": {
      "needs_background": "light"
     },
     "output_type": "display_data"
    }
   ],
   "source": [
    "pyplot.scatter(y_test, y_pred)\n",
    "pyplot.show()"
   ]
  },
  {
   "cell_type": "code",
   "execution_count": 18,
   "metadata": {},
   "outputs": [
    {
     "data": {
      "image/png": "[encoded data removed]",
      "text/plain": [
       "<Figure size 432x288 with 1 Axes>"
      ]
     },
     "metadata": {
      "needs_background": "light"
     },
     "output_type": "display_data"
    }
   ],
   "source": [
    "plot_lm_1 = pyplot.figure()\n",
    "plot_lm_1.axes[0] = sns.residplot(y_pred, test.columns[-5], data=test,\n",
    "                          lowess=True,\n",
    "                          scatter_kws={'alpha': 0.5},\n",
    "                          line_kws={'color': 'red', 'lw': 1, 'alpha': 0.8})\n",
    "\n",
    "plot_lm_1.axes[0].set_title('Residuals vs Fitted')\n",
    "plot_lm_1.axes[0].set_xlabel('Fitted values')\n",
    "plot_lm_1.axes[0].set_ylabel('Residuals');"
   ]
  },
  {
   "cell_type": "code",
   "execution_count": null,
   "metadata": {},
   "outputs": [],
   "source": []
  }
 ],
 "metadata": {
  "kernelspec": {
   "display_name": "Python 3",
   "language": "python",
   "name": "python3"
  },
  "language_info": {
   "codemirror_mode": {
    "name": "ipython",
    "version": 3
   },
   "file_extension": ".py",
   "mimetype": "text/x-python",
   "name": "python",
   "nbconvert_exporter": "python",
   "pygments_lexer": "ipython3",
   "version": "3.7.4"
  }
 },
 "nbformat": 4,
 "nbformat_minor": 2
}
